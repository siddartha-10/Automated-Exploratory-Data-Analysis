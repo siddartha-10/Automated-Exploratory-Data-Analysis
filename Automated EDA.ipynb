{
 "cells": [
  {
   "cell_type": "markdown",
   "metadata": {},
   "source": [
    "## Automated EDA Techinques"
   ]
  },
  {
   "cell_type": "code",
   "execution_count": 1,
   "metadata": {},
   "outputs": [
    {
     "name": "stdout",
     "output_type": "stream",
     "text": [
      "Requirement already satisfied: pandas_profiling in c:\\users\\siddu\\anaconda3\\lib\\site-packages (3.2.0)\n",
      "Collecting markupsafe~=2.1.1\n",
      "  Using cached MarkupSafe-2.1.1-cp37-cp37m-win_amd64.whl (17 kB)\n",
      "Requirement already satisfied: htmlmin>=0.1.12 in c:\\users\\siddu\\anaconda3\\lib\\site-packages (from pandas_profiling) (0.1.12)\n",
      "Requirement already satisfied: visions[type_image_path]==0.7.4 in c:\\users\\siddu\\anaconda3\\lib\\site-packages (from pandas_profiling) (0.7.4)\n",
      "Requirement already satisfied: matplotlib>=3.2.0 in c:\\users\\siddu\\anaconda3\\lib\\site-packages (from pandas_profiling) (3.5.2)\n",
      "Requirement already satisfied: requests>=2.24.0 in c:\\users\\siddu\\appdata\\roaming\\python\\python37\\site-packages (from pandas_profiling) (2.25.1)\n",
      "Requirement already satisfied: multimethod>=1.4 in c:\\users\\siddu\\anaconda3\\lib\\site-packages (from pandas_profiling) (1.8)\n",
      "Requirement already satisfied: pydantic>=1.8.1 in c:\\users\\siddu\\anaconda3\\lib\\site-packages (from pandas_profiling) (1.9.1)\n",
      "Requirement already satisfied: pandas!=1.0.0,!=1.0.1,!=1.0.2,!=1.1.0,>=0.25.3 in c:\\users\\siddu\\anaconda3\\lib\\site-packages (from pandas_profiling) (1.3.5)\n",
      "Requirement already satisfied: tqdm>=4.48.2 in c:\\users\\siddu\\anaconda3\\lib\\site-packages (from pandas_profiling) (4.64.0)\n",
      "Requirement already satisfied: scipy>=1.4.1 in c:\\users\\siddu\\anaconda3\\lib\\site-packages (from pandas_profiling) (1.4.1)\n",
      "Requirement already satisfied: joblib~=1.1.0 in c:\\users\\siddu\\anaconda3\\lib\\site-packages (from pandas_profiling) (1.1.0)\n",
      "Requirement already satisfied: missingno>=0.4.2 in c:\\users\\siddu\\anaconda3\\lib\\site-packages (from pandas_profiling) (0.5.1)\n",
      "Requirement already satisfied: seaborn>=0.10.1 in c:\\users\\siddu\\anaconda3\\lib\\site-packages (from pandas_profiling) (0.11.2)\n",
      "Requirement already satisfied: phik>=0.11.1 in c:\\users\\siddu\\anaconda3\\lib\\site-packages (from pandas_profiling) (0.12.2)\n",
      "Requirement already satisfied: PyYAML>=5.0.0 in c:\\users\\siddu\\anaconda3\\lib\\site-packages (from pandas_profiling) (5.3)\n",
      "Requirement already satisfied: tangled-up-in-unicode==0.2.0 in c:\\users\\siddu\\anaconda3\\lib\\site-packages (from pandas_profiling) (0.2.0)\n",
      "Requirement already satisfied: numpy>=1.16.0 in c:\\users\\siddu\\anaconda3\\lib\\site-packages (from pandas_profiling) (1.18.1)\n",
      "Requirement already satisfied: jinja2>=2.11.1 in c:\\users\\siddu\\anaconda3\\lib\\site-packages (from pandas_profiling) (2.11.1)\n",
      "Requirement already satisfied: attrs>=19.3.0 in c:\\users\\siddu\\anaconda3\\lib\\site-packages (from visions[type_image_path]==0.7.4->pandas_profiling) (19.3.0)\n",
      "Requirement already satisfied: networkx>=2.4 in c:\\users\\siddu\\anaconda3\\lib\\site-packages (from visions[type_image_path]==0.7.4->pandas_profiling) (2.4)\n",
      "Requirement already satisfied: imagehash; extra == \"type_image_path\" in c:\\users\\siddu\\anaconda3\\lib\\site-packages (from visions[type_image_path]==0.7.4->pandas_profiling) (4.2.1)\n",
      "Requirement already satisfied: Pillow; extra == \"type_image_path\" in c:\\users\\siddu\\anaconda3\\lib\\site-packages (from visions[type_image_path]==0.7.4->pandas_profiling) (9.0.1)\n",
      "Requirement already satisfied: kiwisolver>=1.0.1 in c:\\users\\siddu\\anaconda3\\lib\\site-packages (from matplotlib>=3.2.0->pandas_profiling) (1.1.0)\n",
      "Requirement already satisfied: cycler>=0.10 in c:\\users\\siddu\\anaconda3\\lib\\site-packages (from matplotlib>=3.2.0->pandas_profiling) (0.10.0)\n",
      "Requirement already satisfied: python-dateutil>=2.7 in c:\\users\\siddu\\anaconda3\\lib\\site-packages (from matplotlib>=3.2.0->pandas_profiling) (2.8.1)\n",
      "Requirement already satisfied: fonttools>=4.22.0 in c:\\users\\siddu\\anaconda3\\lib\\site-packages (from matplotlib>=3.2.0->pandas_profiling) (4.33.3)\n",
      "Requirement already satisfied: pyparsing>=2.2.1 in c:\\users\\siddu\\anaconda3\\lib\\site-packages (from matplotlib>=3.2.0->pandas_profiling) (2.4.6)\n",
      "Requirement already satisfied: packaging>=20.0 in c:\\users\\siddu\\anaconda3\\lib\\site-packages (from matplotlib>=3.2.0->pandas_profiling) (21.3)\n",
      "Requirement already satisfied: chardet<5,>=3.0.2 in c:\\users\\siddu\\anaconda3\\lib\\site-packages (from requests>=2.24.0->pandas_profiling) (3.0.4)\n",
      "Requirement already satisfied: urllib3<1.27,>=1.21.1 in c:\\users\\siddu\\anaconda3\\lib\\site-packages (from requests>=2.24.0->pandas_profiling) (1.25.8)\n",
      "Requirement already satisfied: certifi>=2017.4.17 in c:\\users\\siddu\\anaconda3\\lib\\site-packages (from requests>=2.24.0->pandas_profiling) (2019.11.28)\n",
      "Requirement already satisfied: idna<3,>=2.5 in c:\\users\\siddu\\anaconda3\\lib\\site-packages (from requests>=2.24.0->pandas_profiling) (2.8)\n",
      "Requirement already satisfied: typing-extensions>=3.7.4.3 in c:\\users\\siddu\\appdata\\roaming\\python\\python37\\site-packages (from pydantic>=1.8.1->pandas_profiling) (3.10.0.0)\n",
      "Requirement already satisfied: pytz>=2017.3 in c:\\users\\siddu\\anaconda3\\lib\\site-packages (from pandas!=1.0.0,!=1.0.1,!=1.0.2,!=1.1.0,>=0.25.3->pandas_profiling) (2019.3)\n",
      "Requirement already satisfied: colorama; platform_system == \"Windows\" in c:\\users\\siddu\\anaconda3\\lib\\site-packages (from tqdm>=4.48.2->pandas_profiling) (0.4.3)\n",
      "Requirement already satisfied: decorator>=4.3.0 in c:\\users\\siddu\\anaconda3\\lib\\site-packages (from networkx>=2.4->visions[type_image_path]==0.7.4->pandas_profiling) (4.4.1)\n",
      "Requirement already satisfied: six in c:\\users\\siddu\\anaconda3\\lib\\site-packages (from imagehash; extra == \"type_image_path\"->visions[type_image_path]==0.7.4->pandas_profiling) (1.14.0)\n",
      "Requirement already satisfied: PyWavelets in c:\\users\\siddu\\anaconda3\\lib\\site-packages (from imagehash; extra == \"type_image_path\"->visions[type_image_path]==0.7.4->pandas_profiling) (1.1.1)\n",
      "Requirement already satisfied: setuptools in c:\\users\\siddu\\anaconda3\\lib\\site-packages (from kiwisolver>=1.0.1->matplotlib>=3.2.0->pandas_profiling) (45.2.0.post20200210)\n",
      "Installing collected packages: markupsafe\n",
      "  Attempting uninstall: markupsafe\n",
      "    Found existing installation: MarkupSafe 2.0.1\n",
      "    Uninstalling MarkupSafe-2.0.1:\n",
      "      Successfully uninstalled MarkupSafe-2.0.1\n",
      "Successfully installed markupsafe-2.1.1\n"
     ]
    },
    {
     "name": "stderr",
     "output_type": "stream",
     "text": [
      "ERROR: aws-sam-cli 1.52.0 has requirement MarkupSafe==2.0.1, but you'll have markupsafe 2.1.1 which is incompatible.\n"
     ]
    }
   ],
   "source": [
    "!pip install pandas_profiling"
   ]
  },
  {
   "cell_type": "code",
   "execution_count": null,
   "metadata": {},
   "outputs": [],
   "source": [
    "import pandas_profiling"
   ]
  },
  {
   "cell_type": "code",
   "execution_count": null,
   "metadata": {},
   "outputs": [],
   "source": []
  }
 ],
 "metadata": {
  "kernelspec": {
   "display_name": "Python 3",
   "language": "python",
   "name": "python3"
  },
  "language_info": {
   "codemirror_mode": {
    "name": "ipython",
    "version": 3
   },
   "file_extension": ".py",
   "mimetype": "text/x-python",
   "name": "python",
   "nbconvert_exporter": "python",
   "pygments_lexer": "ipython3",
   "version": "3.7.6"
  }
 },
 "nbformat": 4,
 "nbformat_minor": 4
}
